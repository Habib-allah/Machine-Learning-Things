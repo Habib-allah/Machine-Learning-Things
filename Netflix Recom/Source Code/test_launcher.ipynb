{
  "nbformat": 4,
  "nbformat_minor": 0,
  "metadata": {
    "colab": {
      "name": "fac-mat.ipynb",
      "provenance": [],
      "collapsed_sections": []
    },
    "kernelspec": {
      "name": "python3",
      "display_name": "Python 3"
    }
  },
  "cells": [
    {
      "cell_type": "markdown",
      "metadata": {
        "id": "Ac_s8_SDQlza"
      },
      "source": [
        "## Before you start!\r\n",
        "\r\n",
        "###Please make sure to have a directory called 'params' containing the parameters as shown in the picture:\r\n",
        "\r\n",
        "![image_2020-12-20_232855.png](data:image/png;base64,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)\r\n",
        "\r\n",
        "###Also load the source code like:\r\n",
        "![image_2020-12-20_233027.png](data:image/png;base64,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)\r\n",
        "\r\n",
        "### Otherwise you'll have to change arguments of the function 'get_saved_params' later on!\r\n"
      ]
    },
    {
      "cell_type": "code",
      "metadata": {
        "id": "-v3llIabOnGS",
        "colab": {
          "base_uri": "https://localhost:8080/"
        },
        "outputId": "6a30de4c-33fd-42d9-f26f-fa9084dc8410"
      },
      "source": [
        "!gdown --id 1Ted1erR6zUHLk4SiE8pOu4h8ef3x7OP7"
      ],
      "execution_count": 1,
      "outputs": [
        {
          "output_type": "stream",
          "text": [
            "Downloading...\n",
            "From: https://drive.google.com/uc?id=1Ted1erR6zUHLk4SiE8pOu4h8ef3x7OP7\n",
            "To: /content/recommendation.zip\n",
            "803MB [00:09, 85.0MB/s]\n"
          ],
          "name": "stdout"
        }
      ]
    },
    {
      "cell_type": "code",
      "metadata": {
        "colab": {
          "base_uri": "https://localhost:8080/"
        },
        "id": "_7B4liGH8Jgu",
        "outputId": "c52e6138-35fa-4323-f8c7-a7c5fd958ef4"
      },
      "source": [
        "!unzip ./recommendation.zip"
      ],
      "execution_count": 2,
      "outputs": [
        {
          "output_type": "stream",
          "text": [
            "Archive:  ./recommendation.zip\n",
            "   creating: recommendation/\n",
            "  inflating: recommendation/asset_genres.csv  \n",
            "  inflating: recommendation/assets.csv  \n",
            "  inflating: recommendation/bookmarks.csv  \n",
            "  inflating: recommendation/bookmarks_idx_test.npy  \n",
            "  inflating: recommendation/bookmarks_idx_train.npy  \n",
            "  inflating: recommendation/favorites.csv  \n",
            "  inflating: recommendation/genres.csv  \n",
            "  inflating: recommendation/ratings.csv  \n"
          ],
          "name": "stdout"
        }
      ]
    },
    {
      "cell_type": "code",
      "metadata": {
        "id": "irs1xnIoDvDV"
      },
      "source": [
        "import pandas as pd\r\n",
        "import numpy as np"
      ],
      "execution_count": 9,
      "outputs": []
    },
    {
      "cell_type": "code",
      "metadata": {
        "id": "2AvEwQMJ0d7t"
      },
      "source": [
        "from baseline import Baseline\r\n",
        "from mapper import Mapper \r\n",
        "from svdpp import SVDPP\r\n",
        "from dataset import interest_generator,split_dataset"
      ],
      "execution_count": 10,
      "outputs": []
    },
    {
      "cell_type": "code",
      "metadata": {
        "id": "39a2rLB5EAU1"
      },
      "source": [
        "df_favorites=pd.read_csv('./recommendation/favorites.csv')\r\n",
        "df_bookmarks=pd.read_csv('./recommendation/bookmarks.csv')\r\n",
        "df_ratings=pd.read_csv('./recommendation/ratings.csv')"
      ],
      "execution_count": 11,
      "outputs": []
    },
    {
      "cell_type": "code",
      "metadata": {
        "id": "Z82RFrzLECfP"
      },
      "source": [
        "df_interest=interest_generator(df_favorites,df_bookmarks,df_ratings)"
      ],
      "execution_count": 12,
      "outputs": []
    },
    {
      "cell_type": "code",
      "metadata": {
        "id": "HwFsSBMpEMs_"
      },
      "source": [
        "train_interest,test_interest=split_dataset(df_interest)"
      ],
      "execution_count": 13,
      "outputs": []
    },
    {
      "cell_type": "markdown",
      "metadata": {
        "id": "rghd01TuSABw"
      },
      "source": [
        "###The RMSE IS 0.68 on one million test samples. (SVDD)"
      ]
    },
    {
      "cell_type": "code",
      "metadata": {
        "colab": {
          "base_uri": "https://localhost:8080/"
        },
        "id": "-oTsxeSg-BLe",
        "outputId": "24985793-d12b-42cd-a4f7-1786f0291146"
      },
      "source": [
        "s=SVDPP()\r\n",
        "\r\n",
        "s.get_saved_params(iteration='best',base_path='/content/params/svdpp/')\r\n",
        "\r\n",
        "df_test=test_interest[:1000000]\r\n",
        "test_mapper=Mapper(df_test)\r\n",
        "mu = df_test['interest'].sum()/df_test.shape[0]\r\n",
        "s.get_rmse(df_test,mu=mu,mapper=test_mapper)"
      ],
      "execution_count": 15,
      "outputs": [
        {
          "output_type": "stream",
          "text": [
            "Batch: 0.00 Took: 0.01\n",
            "Batch: 1.00 Took: 31.50\n",
            "Batch: 2.00 Took: 31.10\n",
            "Batch: 3.00 Took: 31.12\n",
            "Batch: 4.00 Took: 31.28\n",
            "Batch: 5.00 Took: 31.70\n",
            "Batch: 6.00 Took: 31.37\n",
            "Batch: 7.00 Took: 31.47\n",
            "Batch: 8.00 Took: 31.41\n",
            "Batch: 9.00 Took: 31.36\n"
          ],
          "name": "stdout"
        },
        {
          "output_type": "execute_result",
          "data": {
            "text/plain": [
              "0.6840391746478319"
            ]
          },
          "metadata": {
            "tags": []
          },
          "execution_count": 15
        }
      ]
    },
    {
      "cell_type": "markdown",
      "metadata": {
        "id": "K733w-MySLL5"
      },
      "source": [
        "###The RMSE IS 0.27 on the whole test dataset. (BASELINE)"
      ]
    },
    {
      "cell_type": "code",
      "metadata": {
        "colab": {
          "base_uri": "https://localhost:8080/"
        },
        "id": "Jzcw3xhqHHpM",
        "outputId": "599fe6d8-5123-41a4-9469-a7a71e08b44d"
      },
      "source": [
        "baseline=Baseline()\r\n",
        "\r\n",
        "baseline.get_saved_params(iteration='best',base_path='/content/params/baseline/')\r\n",
        "\r\n",
        "m_test=Mapper(test_interest)\r\n",
        "m_train=Mapper(train_interest)\r\n",
        "\r\n",
        "d_profile = {x:m_train.profile_dict[x] for x in m_train.profile_dict if x in m_test.profile_dict}\r\n",
        "d_asset = {x:m_train.asset_dict[x] for x in m_train.asset_dict if x in m_test.asset_dict}\r\n",
        "\r\n",
        "m_test.profile_dict=d_profile\r\n",
        "m_test.asset_dict=d_asset\r\n",
        "\r\n",
        "mu = train_interest['interest'].sum()/train_interest.shape[0]\r\n",
        "\r\n",
        "baseline.get_rmse(test_interest,m_test,mu)"
      ],
      "execution_count": 17,
      "outputs": [
        {
          "output_type": "stream",
          "text": [
            " Treated 0.00 Millions\n",
            " Treated 1.00 Millions\n",
            " Treated 2.00 Millions\n",
            " Treated 3.00 Millions\n",
            " Treated 4.00 Millions\n",
            " Treated 5.00 Millions\n",
            " Treated 6.00 Millions\n",
            " Treated 7.00 Millions\n",
            " Treated 8.00 Millions\n",
            " Treated 9.00 Millions\n",
            " Treated 10.00 Millions\n",
            " Treated 11.00 Millions\n",
            " Treated 12.00 Millions\n",
            " Treated 13.00 Millions\n",
            " Treated 14.00 Millions\n",
            " Treated 15.00 Millions\n",
            " Treated 15.00 Millions\n",
            " Treated 16.00 Millions\n",
            " Treated 17.00 Millions\n",
            " Treated 18.00 Millions\n",
            " Treated 19.00 Millions\n",
            " Treated 20.00 Millions\n",
            " Treated 21.00 Millions\n"
          ],
          "name": "stdout"
        },
        {
          "output_type": "execute_result",
          "data": {
            "text/plain": [
              "0.2752960568724151"
            ]
          },
          "metadata": {
            "tags": []
          },
          "execution_count": 17
        }
      ]
    },
    {
      "cell_type": "code",
      "metadata": {
        "id": "4wF-TFzeI10x"
      },
      "source": [
        ""
      ],
      "execution_count": null,
      "outputs": []
    }
  ]
}