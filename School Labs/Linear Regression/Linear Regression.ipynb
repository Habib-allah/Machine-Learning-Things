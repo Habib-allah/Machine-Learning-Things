{
 "cells": [
  {
   "cell_type": "markdown",
   "metadata": {},
   "source": [
    "# TP 02 : Régression linéaire \n"
   ]
  },
  {
   "cell_type": "markdown",
   "metadata": {},
   "source": [
    "## Régression linéaire à une seule variable \n",
    "Dans cette partie, on commence par implémenter la régression linéaire avec une seule variable de prédiction (predictor). Nous allons donc essayer de résoudre le fameux problème de prédiction du prix d'une maison en connaissant sa superficie. \n",
    "\n",
    "\n",
    "### 1- Préparation des données : "
   ]
  },
  {
   "cell_type": "code",
   "execution_count": 1,
   "metadata": {},
   "outputs": [],
   "source": [
    "from sklearn.preprocessing import StandardScaler\n",
    "import numpy as np\n",
    "import pandas as pd \n",
    "import matplotlib.pyplot as plt\n",
    "%matplotlib inline"
   ]
  },
  {
   "cell_type": "code",
   "execution_count": 2,
   "metadata": {},
   "outputs": [
    {
     "data": {
      "text/html": [
       "<div>\n",
       "<style scoped>\n",
       "    .dataframe tbody tr th:only-of-type {\n",
       "        vertical-align: middle;\n",
       "    }\n",
       "\n",
       "    .dataframe tbody tr th {\n",
       "        vertical-align: top;\n",
       "    }\n",
       "\n",
       "    .dataframe thead th {\n",
       "        text-align: right;\n",
       "    }\n",
       "</style>\n",
       "<table border=\"1\" class=\"dataframe\">\n",
       "  <thead>\n",
       "    <tr style=\"text-align: right;\">\n",
       "      <th></th>\n",
       "      <th>Superficie</th>\n",
       "      <th>Prix</th>\n",
       "    </tr>\n",
       "  </thead>\n",
       "  <tbody>\n",
       "    <tr>\n",
       "      <th>0</th>\n",
       "      <td>2104</td>\n",
       "      <td>399900</td>\n",
       "    </tr>\n",
       "    <tr>\n",
       "      <th>1</th>\n",
       "      <td>1600</td>\n",
       "      <td>329900</td>\n",
       "    </tr>\n",
       "    <tr>\n",
       "      <th>2</th>\n",
       "      <td>2400</td>\n",
       "      <td>369000</td>\n",
       "    </tr>\n",
       "    <tr>\n",
       "      <th>3</th>\n",
       "      <td>1416</td>\n",
       "      <td>232000</td>\n",
       "    </tr>\n",
       "    <tr>\n",
       "      <th>4</th>\n",
       "      <td>3000</td>\n",
       "      <td>539900</td>\n",
       "    </tr>\n",
       "  </tbody>\n",
       "</table>\n",
       "</div>"
      ],
      "text/plain": [
       "   Superficie    Prix\n",
       "0        2104  399900\n",
       "1        1600  329900\n",
       "2        2400  369000\n",
       "3        1416  232000\n",
       "4        3000  539900"
      ]
     },
     "execution_count": 2,
     "metadata": {},
     "output_type": "execute_result"
    }
   ],
   "source": [
    "header = [\"Superficie\", \"Prix\"]\n",
    "houses = pd.read_csv(\"datasets/houses.csv\", names=header)\n",
    "houses.head()"
   ]
  },
  {
   "cell_type": "code",
   "execution_count": 3,
   "metadata": {},
   "outputs": [
    {
     "data": {
      "text/html": [
       "<div>\n",
       "<style scoped>\n",
       "    .dataframe tbody tr th:only-of-type {\n",
       "        vertical-align: middle;\n",
       "    }\n",
       "\n",
       "    .dataframe tbody tr th {\n",
       "        vertical-align: top;\n",
       "    }\n",
       "\n",
       "    .dataframe thead th {\n",
       "        text-align: right;\n",
       "    }\n",
       "</style>\n",
       "<table border=\"1\" class=\"dataframe\">\n",
       "  <thead>\n",
       "    <tr style=\"text-align: right;\">\n",
       "      <th></th>\n",
       "      <th>Superficie</th>\n",
       "      <th>Prix</th>\n",
       "    </tr>\n",
       "  </thead>\n",
       "  <tbody>\n",
       "    <tr>\n",
       "      <th>count</th>\n",
       "      <td>47.000000</td>\n",
       "      <td>47.000000</td>\n",
       "    </tr>\n",
       "    <tr>\n",
       "      <th>mean</th>\n",
       "      <td>2000.680851</td>\n",
       "      <td>340412.659574</td>\n",
       "    </tr>\n",
       "    <tr>\n",
       "      <th>std</th>\n",
       "      <td>794.702354</td>\n",
       "      <td>125039.899586</td>\n",
       "    </tr>\n",
       "    <tr>\n",
       "      <th>min</th>\n",
       "      <td>852.000000</td>\n",
       "      <td>169900.000000</td>\n",
       "    </tr>\n",
       "    <tr>\n",
       "      <th>25%</th>\n",
       "      <td>1432.000000</td>\n",
       "      <td>249900.000000</td>\n",
       "    </tr>\n",
       "    <tr>\n",
       "      <th>50%</th>\n",
       "      <td>1888.000000</td>\n",
       "      <td>299900.000000</td>\n",
       "    </tr>\n",
       "    <tr>\n",
       "      <th>75%</th>\n",
       "      <td>2269.000000</td>\n",
       "      <td>384450.000000</td>\n",
       "    </tr>\n",
       "    <tr>\n",
       "      <th>max</th>\n",
       "      <td>4478.000000</td>\n",
       "      <td>699900.000000</td>\n",
       "    </tr>\n",
       "  </tbody>\n",
       "</table>\n",
       "</div>"
      ],
      "text/plain": [
       "        Superficie           Prix\n",
       "count    47.000000      47.000000\n",
       "mean   2000.680851  340412.659574\n",
       "std     794.702354  125039.899586\n",
       "min     852.000000  169900.000000\n",
       "25%    1432.000000  249900.000000\n",
       "50%    1888.000000  299900.000000\n",
       "75%    2269.000000  384450.000000\n",
       "max    4478.000000  699900.000000"
      ]
     },
     "execution_count": 3,
     "metadata": {},
     "output_type": "execute_result"
    }
   ],
   "source": [
    "houses.describe()"
   ]
  },
  {
   "cell_type": "code",
   "execution_count": 4,
   "metadata": {},
   "outputs": [],
   "source": [
    "# Extraction des features \n",
    "X = houses.iloc[:, :-1].values # Premières colonnes \n",
    "\n",
    "Y = houses.iloc[:,-1].values # Dernière colonne "
   ]
  },
  {
   "cell_type": "markdown",
   "metadata": {},
   "source": [
    "##### Normalisation \n",
    "La normalisation est la mise à echelle des valeurs des caractéristiques. Exemple simple de but : En calculant la distance euclidienne une des caracteristiques va avoir plus d'effet sur le résultat si ses valeurs sont beaucoup plus grandes que celle de l'autre variable. "
   ]
  },
  {
   "cell_type": "code",
   "execution_count": 5,
   "metadata": {},
   "outputs": [
    {
     "name": "stdout",
     "output_type": "stream",
     "text": [
      "(47, 1)\n"
     ]
    },
    {
     "name": "stderr",
     "output_type": "stream",
     "text": [
      "C:\\Users\\Habib-allah\\Anaconda3\\lib\\site-packages\\sklearn\\utils\\validation.py:475: DataConversionWarning: Data with input dtype int64 was converted to float64 by StandardScaler.\n",
      "  warnings.warn(msg, DataConversionWarning)\n"
     ]
    },
    {
     "data": {
      "text/plain": [
       "array([[ 1.        ,  0.13141542],\n",
       "       [ 1.        , -0.5096407 ],\n",
       "       [ 1.        ,  0.5079087 ],\n",
       "       [ 1.        , -0.74367706],\n",
       "       [ 1.        ,  1.27107075]])"
      ]
     },
     "execution_count": 5,
     "metadata": {},
     "output_type": "execute_result"
    }
   ],
   "source": [
    "# Normalisation \n",
    "sc=StandardScaler()\n",
    "X = sc.fit_transform(X)\n",
    "print(X.shape)\n",
    "## On définit la matrice X comme etant la supérficie concatenée à un vecteur de 1 pour faciliter l'algorithme pour theta0 \n",
    "ones = np.ones([X.shape[0],1])\n",
    "X = np.concatenate((ones,X),axis=1)\n",
    "X[:5, :]"
   ]
  },
  {
   "cell_type": "code",
   "execution_count": 6,
   "metadata": {},
   "outputs": [
    {
     "data": {
      "image/png": "[encoded data removed]",
      "text/plain": [
       "<Figure size 432x288 with 1 Axes>"
      ]
     },
     "metadata": {},
     "output_type": "display_data"
    }
   ],
   "source": [
    "plt.scatter(X[:,1], Y)\n",
    "plt.xlabel('Superficie')\n",
    "plt.ylabel('Prix')\n",
    "plt.show()"
   ]
  },
  {
   "cell_type": "markdown",
   "metadata": {},
   "source": [
    "### 2- Descente du gradient : \n",
    "\n",
    "#### 2.1 : Définir les hyperparamétres : "
   ]
  },
  {
   "cell_type": "code",
   "execution_count": 7,
   "metadata": {},
   "outputs": [],
   "source": [
    "# Définir les hyperparamétres : \n",
    "learning_rate = 0.1 \n",
    "nb_iter = 10000"
   ]
  },
  {
   "cell_type": "code",
   "execution_count": 8,
   "metadata": {},
   "outputs": [],
   "source": [
    "# TODO: Définir la fonction de cout : \n",
    "def J(X,y,theta):\n",
    "    ychap=np.dot(X,theta)\n",
    "    return np.sum((ychap-y)**2)/(2*X.shape[0]) \n"
   ]
  },
  {
   "cell_type": "markdown",
   "metadata": {},
   "source": [
    "#### 2.2 : Définir l'algorithme de la régression linéaire avec descente du gradient : "
   ]
  },
  {
   "cell_type": "code",
   "execution_count": 24,
   "metadata": {},
   "outputs": [
    {
     "name": "stdout",
     "output_type": "stream",
     "text": [
      "Thetas aléatoires :  [2, 1]\n"
     ]
    },
    {
     "data": {
      "image/png": "[encoded data removed]",
      "text/plain": [
       "<Figure size 432x288 with 1 Axes>"
      ]
     },
     "metadata": {},
     "output_type": "display_data"
    },
    {
     "data": {
      "image/png": "[encoded data removed]",
      "text/plain": [
       "<Figure size 432x288 with 1 Axes>"
      ]
     },
     "metadata": {},
     "output_type": "display_data"
    },
    {
     "name": "stdout",
     "output_type": "stream",
     "text": [
      "155\n",
      "2058132740.4335544\n"
     ]
    }
   ],
   "source": [
    "import warnings\n",
    "warnings.filterwarnings('ignore')\n",
    "# TODO :  Initialiser aléatoirement les paramètres :\n",
    "## theta est une liste contenant les deux paramètres theta0 et theta1  \n",
    "theta=[2,1]\n",
    "print(\"Thetas aléatoires : \", theta)\n",
    "\n",
    "\n",
    "M = len(X)\n",
    "\n",
    "# Affichage de la droite aléatoire \n",
    "plt.scatter(X[:,1], Y)\n",
    "plt.plot(X[:,1], np.dot(X, theta))\n",
    "plt.show()\n",
    "\n",
    "# TODO : Définir la déscente du gradient\n",
    "def step(X,y,theta,i):\n",
    "    ychap=np.dot(X,theta)\n",
    "    Xtranspose=np.transpose(X)\n",
    "    return np.sum(np.dot(Xtranspose[i,:],(ychap-y)))/(X.shape[0])\n",
    "\n",
    "def gradient_descent(X, Y, theta, nb_iter, learning_rate, affich = 0):\n",
    "    evol = nb_iter # Afficher les droites à chaque tiers \n",
    "    \n",
    "    # Définir l'algorithme de la descente de gradient :\n",
    "    cout_precedent=[0]\n",
    "    while (abs(J(X,Y,theta)- cout_precedent[-1]))>0.0001 and evol!=0:\n",
    "        tmp=theta\n",
    "        cout_precedent.append(J(X,Y,theta))\n",
    "        theta[0]=tmp[0]-learning_rate*step(X,Y,tmp,0)\n",
    "        theta[1]=tmp[1]-learning_rate*step(X,Y,tmp,1)\n",
    "        evol=evol-1\n",
    "    # Affichage finale \n",
    "    if affich==1:\n",
    "        plt.scatter(X[:,1], Y)\n",
    "        plt.plot(X[:,1], np.dot(X, theta))\n",
    "        plt.show()\n",
    "    print(10000 - evol)\n",
    "\n",
    "    return theta,cout_precedent,(10000-evol)\n",
    "\n",
    "theta_optimaux,couts_precedents,conv= gradient_descent(X,Y, theta, nb_iter, learning_rate,1)\n",
    "\n",
    "\n",
    "\n",
    "\n",
    "#print(\"Thétas optimaux : \", theta_optimaux)\n",
    "print(couts_precedents[-1])"
   ]
  },
  {
   "cell_type": "code",
   "execution_count": 25,
   "metadata": {},
   "outputs": [
    {
     "data": {
      "image/png": "[encoded data removed]",
      "text/plain": [
       "<Figure size 432x288 with 1 Axes>"
      ]
     },
     "metadata": {},
     "output_type": "display_data"
    }
   ],
   "source": [
    "plt.plot(couts_precedents)\n",
    "plt.show()"
   ]
  },
  {
   "cell_type": "markdown",
   "metadata": {},
   "source": [
    "**Question 1 ** : \n",
    "\n",
    "Pour cette exemple, quel est selon vous le nombre d'itérations nécessaires pour obtenir la convergence dans l'algorithme de la descente du gradient ? \n",
    "\n",
    "**Answer 1 : ** \n"
   ]
  },
  {
   "cell_type": "markdown",
   "metadata": {},
   "source": [
    "**Question 2 ** : \n",
    "\n",
    "Essayer de changer les valeurs du learning_rate, que remarquez-vous ? \n",
    "Afficher le graphe des coûts (J) par rapport aux différents learning_rate. \n",
    "\n",
    "**Answer 2 : ** \n"
   ]
  },
  {
   "cell_type": "code",
   "execution_count": 26,
   "metadata": {},
   "outputs": [
    {
     "name": "stdout",
     "output_type": "stream",
     "text": [
      "155\n",
      "76\n",
      "48\n",
      "34\n",
      "2\n",
      "1\n",
      "492\n",
      "311\n",
      "247\n",
      "156\n"
     ]
    },
    {
     "data": {
      "image/png": "[encoded data removed]",
      "text/plain": [
       "<Figure size 432x288 with 1 Axes>"
      ]
     },
     "metadata": {},
     "output_type": "display_data"
    }
   ],
   "source": [
    "\n",
    "learning_rates=[0.1,0.2,0.3,0.4,1,2,3,4,5,10]\n",
    "convs=[]\n",
    "for i in range(len(learning_rates)):\n",
    "    theta=[2,1]\n",
    "    theta_optimaux,couts_precedents,conv= gradient_descent(X,Y, theta, nb_iter, learning_rates[i])\n",
    "    convs.append(conv)\n",
    "\n",
    "\n",
    "plt.scatter(learning_rates, convs)\n",
    "plt.plot(learning_rates, convs)\n",
    "plt.show()"
   ]
  },
  {
   "cell_type": "markdown",
   "metadata": {},
   "source": [
    "### Initialisation des paramétres : \n",
    "Initialisation différentes des thetas pour tester l'algorithme : \n"
   ]
  },
  {
   "cell_type": "code",
   "execution_count": null,
   "metadata": {},
   "outputs": [],
   "source": [
    "# Initialisation aléatoire \n",
    "theta = None\n",
    "affich = 1 \n",
    "theta_optimaux, couts_precedents = gradient_descent(X,Y, theta, nb_iter, learning_rate, affich)\n",
    "\n",
    "print(couts_precedents[-1])"
   ]
  },
  {
   "cell_type": "code",
   "execution_count": null,
   "metadata": {},
   "outputs": [],
   "source": [
    "# Initialisation à zero \n",
    "theta = None\n",
    "affich = 1 \n",
    "theta_optimaux, couts_precedents = gradient_descent(X,Y, theta, nb_iter, learning_rate, affich)\n",
    "\n",
    "print(couts_precedents[-1])"
   ]
  },
  {
   "cell_type": "code",
   "execution_count": null,
   "metadata": {},
   "outputs": [],
   "source": [
    "# Initialisation à un \n",
    "theta = None\n",
    "affich = 1 \n",
    "theta_optimaux, couts_precedents = gradient_descent(X,Y, theta, nb_iter, learning_rate, affich)\n",
    "\n",
    "print(couts_precedents[-1])"
   ]
  },
  {
   "cell_type": "markdown",
   "metadata": {},
   "source": [
    "## Skin Cancer Datasets : \n",
    "Pour tester des données dans une forme différente et s'assurer que la ligne épouse au mieux les données nous allons exécuter l'algorithme sur les données du fichier skincancer.txt "
   ]
  },
  {
   "cell_type": "code",
   "execution_count": null,
   "metadata": {},
   "outputs": [],
   "source": [
    "header= [ \"Latitude\", \"Mortality\", \"Ocean\", \"Long\"]\n",
    "skinCancer = pd.read_csv(\"datasets/skincancer.txt\",  names=header)\n",
    "skinCancer.head()"
   ]
  },
  {
   "cell_type": "code",
   "execution_count": null,
   "metadata": {},
   "outputs": [],
   "source": [
    "plt.scatter(skinCancer.iloc[:,0], skinCancer.iloc[:,1])\n",
    "plt.xlabel('Latitude')\n",
    "plt.ylabel('Mortality')\n",
    "plt.show()"
   ]
  },
  {
   "cell_type": "code",
   "execution_count": null,
   "metadata": {},
   "outputs": [],
   "source": [
    "X = skinCancer.iloc[:,:1].values\n",
    "Y = skinCancer.iloc[:,1].values\n"
   ]
  },
  {
   "cell_type": "code",
   "execution_count": null,
   "metadata": {},
   "outputs": [],
   "source": [
    "# Normalisation \n",
    "X = None \n",
    "\n",
    "ones = np.ones([len(X),1])\n",
    "X = np.concatenate((ones,X),axis=1)\n",
    "X[:5, :]"
   ]
  },
  {
   "cell_type": "code",
   "execution_count": null,
   "metadata": {},
   "outputs": [],
   "source": [
    "theta = np.random.rand(X.shape[1])\n",
    "plt.scatter(X[:,1], Y)\n",
    "plt.plot(X[:,1], np.dot(X, theta))\n",
    "plt.show()\n",
    "\n",
    "theta_optimaux, couts_precedents = gradient_descent(X,Y, theta, nb_iter, learning_rate)\n",
    "\n",
    "print(couts_precedents[-1])\n",
    "print(theta_optimaux)"
   ]
  },
  {
   "cell_type": "markdown",
   "metadata": {},
   "source": [
    "# Régression lineaire avec scikit-learn : \n"
   ]
  },
  {
   "cell_type": "markdown",
   "metadata": {},
   "source": [
    "On poursuit avec les données du skin cancer : \n",
    "    "
   ]
  },
  {
   "cell_type": "code",
   "execution_count": null,
   "metadata": {},
   "outputs": [],
   "source": [
    "# Diviser les données \n",
    "from sklearn.model_selection import train_test_split  \n",
    "X_train, X_test, y_train, y_test = train_test_split(X, Y, test_size=0.2, random_state=0)  "
   ]
  },
  {
   "cell_type": "code",
   "execution_count": null,
   "metadata": {},
   "outputs": [],
   "source": [
    "# Entraîner le modèle \n",
    "from sklearn.linear_model import LinearRegression  \n",
    "regressor = LinearRegression()  \n",
    "regressor.fit(X_train, y_train)  "
   ]
  },
  {
   "cell_type": "code",
   "execution_count": null,
   "metadata": {},
   "outputs": [],
   "source": [
    "print(regressor.intercept_)  "
   ]
  },
  {
   "cell_type": "code",
   "execution_count": null,
   "metadata": {},
   "outputs": [],
   "source": [
    "print(regressor.coef_)  "
   ]
  },
  {
   "cell_type": "code",
   "execution_count": null,
   "metadata": {},
   "outputs": [],
   "source": [
    "theta = [regressor.intercept_ , regressor.coef_[1]]\n",
    "plt.scatter(X[:,1], Y)\n",
    "plt.plot(X[:,1], np.dot(X, theta))\n",
    "plt.show()"
   ]
  },
  {
   "cell_type": "code",
   "execution_count": null,
   "metadata": {},
   "outputs": [],
   "source": [
    "# Prédire les valeurs du X_test \n",
    "y_pred = regressor.predict(X_test)  \n"
   ]
  },
  {
   "cell_type": "code",
   "execution_count": null,
   "metadata": {},
   "outputs": [],
   "source": [
    "# TODO : Calculer la matrice de confusion : \n"
   ]
  },
  {
   "cell_type": "code",
   "execution_count": null,
   "metadata": {},
   "outputs": [],
   "source": [
    "# Quelques metrics proposés par sklearn \n",
    "from sklearn import metrics  \n",
    "print('Mean Absolute Error:', metrics.mean_absolute_error(y_test, y_pred))  \n",
    "print('Mean Squared Error:', metrics.mean_squared_error(y_test, y_pred))  \n",
    "print('Root Mean Squared Error:', np.sqrt(metrics.mean_squared_error(y_test, y_pred)))  "
   ]
  }
 ],
 "metadata": {
  "kernelspec": {
   "display_name": "Python 3",
   "language": "python",
   "name": "python3"
  },
  "language_info": {
   "codemirror_mode": {
    "name": "ipython",
    "version": 3
   },
   "file_extension": ".py",
   "mimetype": "text/x-python",
   "name": "python",
   "nbconvert_exporter": "python",
   "pygments_lexer": "ipython3",
   "version": "3.6.5"
  }
 },
 "nbformat": 4,
 "nbformat_minor": 2
}
