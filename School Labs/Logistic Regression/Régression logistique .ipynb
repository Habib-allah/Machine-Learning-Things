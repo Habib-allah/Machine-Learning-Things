{
 "cells": [
  {
   "cell_type": "markdown",
   "metadata": {},
   "source": [
    "# TP03 : Régression logistique\n",
    "\n",
    "## Régression linéaire polynomiale \n",
    "Dans cette partie, comme expliqué en cours nous voyons un exemple simple d'un modèle linéaire sous forme d'un polynome multiple. \n",
    "\n"
   ]
  },
  {
   "cell_type": "code",
   "execution_count": 1,
   "metadata": {},
   "outputs": [],
   "source": [
    "from sklearn.linear_model import LinearRegression  \n",
    "from sklearn.preprocessing import PolynomialFeatures \n",
    "from sklearn.metrics import mean_squared_error, r2_score\n",
    "\n",
    "import matplotlib.pyplot as plt\n",
    "import numpy as np\n",
    "import random"
   ]
  },
  {
   "cell_type": "code",
   "execution_count": 132,
   "metadata": {},
   "outputs": [
    {
     "name": "stdout",
     "output_type": "stream",
     "text": [
      "(10,)\n"
     ]
    },
    {
     "data": {
      "text/plain": [
       "<matplotlib.collections.PathCollection at 0x251c06fe048>"
      ]
     },
     "execution_count": 132,
     "metadata": {},
     "output_type": "execute_result"
    },
    {
     "data": {
      "image/png": "[encoded data removed]",
      "text/plain": [
       "<Figure size 432x288 with 1 Axes>"
      ]
     },
     "metadata": {},
     "output_type": "display_data"
    }
   ],
   "source": [
    "X = [i for i in range(10)]\n",
    "Y = [random.gauss(x,0.75) for x in X]\n",
    "\n",
    "X = np.asarray(X)\n",
    "Y = np.asarray(Y)\n",
    "\n",
    "X = X[:,np.newaxis]\n",
    "Y = Y[:,np.newaxis]\n",
    "\n",
    "plt.scatter(X,Y)"
   ]
  },
  {
   "cell_type": "code",
   "execution_count": 22,
   "metadata": {},
   "outputs": [
    {
     "data": {
      "text/plain": [
       "LinearRegression(copy_X=True, fit_intercept=True, n_jobs=1, normalize=False)"
      ]
     },
     "execution_count": 22,
     "metadata": {},
     "output_type": "execute_result"
    }
   ],
   "source": [
    "degree = 4 #degrès du polynome résultant. \n",
    "\n",
    "polynomial_features = PolynomialFeatures(degree = degree)\n",
    "X_TRANSF = polynomial_features.fit_transform(X)\n",
    "model = LinearRegression()\n",
    "model.fit(X_TRANSF, Y)"
   ]
  },
  {
   "cell_type": "code",
   "execution_count": 23,
   "metadata": {},
   "outputs": [
    {
     "name": "stdout",
     "output_type": "stream",
     "text": [
      "RMSE:  0.33584787794120324\n",
      "R2:  0.9839500592841012\n"
     ]
    }
   ],
   "source": [
    "Y_NEW = model.predict(X_TRANSF)\n",
    "\n",
    "rmse = np.sqrt(mean_squared_error(Y,Y_NEW))\n",
    "r2 = r2_score(Y,Y_NEW)\n",
    "\n",
    "print('RMSE: ', rmse)\n",
    "print('R2: ', r2)"
   ]
  },
  {
   "cell_type": "code",
   "execution_count": 24,
   "metadata": {},
   "outputs": [
    {
     "data": {
      "image/png": "[encoded data removed]",
      "text/plain": [
       "<Figure size 432x288 with 1 Axes>"
      ]
     },
     "metadata": {},
     "output_type": "display_data"
    }
   ],
   "source": [
    "x_new_min = 0.0\n",
    "x_new_max = 10.0\n",
    "\n",
    "X_NEW = np.linspace(x_new_min, x_new_max, 100)\n",
    "X_NEW = X_NEW[:,np.newaxis]\n",
    "\n",
    "X_NEW_TRANSF = polynomial_features.fit_transform(X_NEW)\n",
    "\n",
    "Y_NEW = model.predict(X_NEW_TRANSF)\n",
    "\n",
    "plt.plot(X_NEW, Y_NEW, color='coral', linewidth=3)\n",
    "\n",
    "plt.grid()\n",
    "plt.xlim(x_new_min,x_new_max)\n",
    "plt.ylim(0,10)\n",
    "\n",
    "title = 'Degree = {}; RMSE = {}; R2 = {}'.format(degree, round(rmse,2), round(r2,2))\n",
    "\n",
    "plt.title(\"Polynomial Linear Regression using scikit-learn and python 3 \\n \" + title,\n",
    "          fontsize=10)\n",
    "plt.xlabel('x')\n",
    "plt.ylabel('y')\n",
    "plt.scatter(X,Y)\n",
    "plt.show()"
   ]
  },
  {
   "cell_type": "markdown",
   "metadata": {},
   "source": [
    "## Régression logistique \n",
    "\n",
    "La régression logistique est généralement utilisée à des fins de classification. Contrairement à la régression linéaire, la variable à prédire ne peut prendre qu'un nombre limité de valeurs (valeurs discrètes). \n",
    "\n",
    "Lorsque le nombre de résultats possibles est seulement deux, on parle de régression logistique binaire.\n",
    "\n",
    "![](img/logistic.JPG) \n",
    "\n",
    "Dans la figure ci-dessus on comprend que la régression logistique est composée d'une régression linéaire suivie de l'application d'une certaine fonction. Cette fonction est la fonction sigmoid dont voici le graphe : \n",
    "\n",
    "![](img/sigmoid.JPG) \n"
   ]
  },
  {
   "cell_type": "markdown",
   "metadata": {},
   "source": [
    "## 1 - Préparation des données : \n",
    "Les données consistent en un ensemble de notes des etudiants et la valeur à prédire est si l'etudiant est admis(1) ou pas(0) "
   ]
  },
  {
   "cell_type": "code",
   "execution_count": 63,
   "metadata": {},
   "outputs": [],
   "source": [
    "import numpy as np\n",
    "import matplotlib.pyplot as plt\n",
    "import pandas as pd"
   ]
  },
  {
   "cell_type": "code",
   "execution_count": 64,
   "metadata": {},
   "outputs": [],
   "source": [
    "header = [\"Note1\", \"Note2\", \"Admis\"]\n",
    "notes = pd.read_csv('datasets/marks.txt', names=header)"
   ]
  },
  {
   "cell_type": "code",
   "execution_count": 65,
   "metadata": {},
   "outputs": [
    {
     "data": {
      "text/plain": [
       "(100,)"
      ]
     },
     "execution_count": 65,
     "metadata": {},
     "output_type": "execute_result"
    }
   ],
   "source": [
    "X = notes.iloc[:, :-1]\n",
    "y = notes.iloc[:, -1]\n",
    "y.shape"
   ]
  },
  {
   "cell_type": "code",
   "execution_count": 66,
   "metadata": {},
   "outputs": [
    {
     "data": {
      "image/png": "[encoded data removed]",
      "text/plain": [
       "<Figure size 432x288 with 1 Axes>"
      ]
     },
     "metadata": {},
     "output_type": "display_data"
    }
   ],
   "source": [
    "admis = notes.loc[y == 1]\n",
    "non_admis = notes.loc[y == 0]\n",
    "\n",
    "plt.scatter(admis.iloc[:, 0], admis.iloc[:, 1], s=10, label='Admis')\n",
    "plt.scatter(non_admis.iloc[:, 0], non_admis.iloc[:, 1], s=10, label='Non Admis')\n",
    "plt.legend()\n",
    "plt.show()"
   ]
  },
  {
   "cell_type": "markdown",
   "metadata": {},
   "source": [
    "## 2- Régression logistique \n",
    "\n",
    "**Expressions mathématiques :  **:\n",
    "<img src=\"img/Math.PNG\" alt=\"Drawing\" style=\"width: 300px;\"/>\n",
    "<img src=\"img/cost.PNG\" alt=\"Drawing\" style=\"width: 300px;\"/>\n",
    "<img src=\"img/total.PNG\" alt=\"Drawing\" style=\"width: 300px;\"/>\n",
    "<img src=\"img/deriv.PNG\" alt=\"Drawing\" style=\"width: 300px;\"/>"
   ]
  },
  {
   "cell_type": "code",
   "execution_count": 67,
   "metadata": {},
   "outputs": [
    {
     "data": {
      "text/plain": [
       "0.5"
      ]
     },
     "execution_count": 67,
     "metadata": {},
     "output_type": "execute_result"
    }
   ],
   "source": [
    "# TODO : Calculer le sigmoid de la valeur x \n",
    "def sigmoid(x):\n",
    "    return 1/ (1 + np.exp(-x))\n",
    "\n",
    "# Test : \n",
    "sigmoid(0)"
   ]
  },
  {
   "cell_type": "code",
   "execution_count": 68,
   "metadata": {},
   "outputs": [],
   "source": [
    "# TODO : La fonction de coût utilisée dans la régression logistique \n",
    "def J(x,y,theta): \n",
    "    m=len(y)\n",
    "    predictions = sigmoid(np.dot(x,theta))\n",
    "    error = (-y * np.log(predictions)) - ((1-y)*np.log(1-predictions))\n",
    "    cost=1/m * sum(error)\n",
    "    grad = 1/m * np.dot(x.transpose(),(predictions - y))\n",
    "    return cost[0],grad\n",
    "#INITIALISER LE THETA\n",
    "theta = np.zeros((X.shape[1]+1,1))\n",
    "#RESHAPE Y\n",
    "y = y[:,np.newaxis]"
   ]
  },
  {
   "cell_type": "code",
   "execution_count": 69,
   "metadata": {},
   "outputs": [],
   "source": [
    "# TODO : Programmer la fonction d'entrainement du modèle \n",
    "def train(x,y, theta ): \n",
    "    alpha=1\n",
    "    m=len(y)\n",
    "    J_history =[]\n",
    "    for i in range(20):\n",
    "        cost,grad = J(x,y,theta)\n",
    "        theta = theta - (alpha * grad)\n",
    "        J_history.append(cost)\n",
    "    \n",
    "    return theta\n",
    "\n",
    "# TODO : fonction de normalisation des données X \n",
    "def normalisation(X):\n",
    "    mean=np.mean(X,axis=0)\n",
    "    std=np.std(X,axis=0)\n",
    "    \n",
    "    X_norm = (X - mean)/std\n",
    "    \n",
    "    return X_norm,mean,std\n",
    "\n",
    "# TODO : Entrainer le modèle en choisissant les bons hyperparamètres.\n",
    "X_,mean,std=normalisation(X)\n",
    "\n",
    "#AJOUTER des 1 pour le parametre theta-zero \n",
    "X_= np.append(np.ones((X_.shape[0],1)),X_,axis=1)\n",
    "theta=train(X_,y,theta)\n",
    "\n"
   ]
  },
  {
   "cell_type": "code",
   "execution_count": 70,
   "metadata": {},
   "outputs": [
    {
     "data": {
      "image/png": "[encoded data removed]",
      "text/plain": [
       "<Figure size 432x288 with 1 Axes>"
      ]
     },
     "metadata": {},
     "output_type": "display_data"
    }
   ],
   "source": [
    "x_values= np.array([np.min(X_[:,1]),np.max(X_[:,1])])\n",
    "y_values = (- (theta[0] + np.dot(theta[1], x_values[0])) / theta[2],  - (theta[0] + np.dot(theta[1], x_values[1])) / theta[2])\n",
    "\n",
    "plt.plot(x_values, y_values, label='ligne de décision')\n",
    "plt.xlabel('Note 1 ')\n",
    "plt.ylabel('Note 2 ')\n",
    "plt.legend()\n",
    "plt.show()"
   ]
  },
  {
   "cell_type": "code",
   "execution_count": 74,
   "metadata": {},
   "outputs": [
    {
     "data": {
      "text/plain": [
       "0"
      ]
     },
     "execution_count": 74,
     "metadata": {},
     "output_type": "execute_result"
    }
   ],
   "source": [
    "# TODO : donner la fonction de prédiction qui retourne la probabilité que X est dans chaque classe \n",
    "def predict(x):\n",
    "    if sigmoid(np.dot(x,theta))>0.5:\n",
    "        return 1\n",
    "    else :\n",
    "        return 0\n",
    "x_test = np.zeros((3,1))\n",
    "x_test[0]=1\n",
    "x_test[1]=(40-mean[0])/std[0]\n",
    "x_test[2]=(70-mean[1])/std[1]\n",
    "predict(x_test.transpose())\n",
    "\n"
   ]
  },
  {
   "cell_type": "markdown",
   "metadata": {},
   "source": [
    "## 3- Implementation sous sklearn : "
   ]
  },
  {
   "cell_type": "code",
   "execution_count": null,
   "metadata": {},
   "outputs": [],
   "source": [
    "from sklearn.linear_model import LogisticRegression\n",
    "from sklearn.metrics import accuracy_score \n",
    "from sklearn.model_selection import train_test_split\n",
    "\n",
    "# TODO : Diviser les données en données d'entrainement et données de tests (Fait dans le TP02 )\n",
    "## Décider de la taille des données pour chaque set\n",
    "X_train, X_test, y_train, y_test = \n",
    "\n",
    "# Créer le modèle \n",
    "model = LogisticRegression()\n",
    "\n",
    "# Entraîner le modèle \n",
    "model.fit(X, y)\n",
    "\n",
    "# Prédire les classes \n",
    "predicted_classes = model.predict(X_test)\n",
    "\n",
    "# Calculer le score du modèle \n",
    "accuracy = accuracy_score(y.flatten(),predicted_classes)\n"
   ]
  }
 ],
 "metadata": {
  "kernelspec": {
   "display_name": "Python 3",
   "language": "python",
   "name": "python3"
  },
  "language_info": {
   "codemirror_mode": {
    "name": "ipython",
    "version": 3
   },
   "file_extension": ".py",
   "mimetype": "text/x-python",
   "name": "python",
   "nbconvert_exporter": "python",
   "pygments_lexer": "ipython3",
   "version": "3.6.5"
  }
 },
 "nbformat": 4,
 "nbformat_minor": 2
}
